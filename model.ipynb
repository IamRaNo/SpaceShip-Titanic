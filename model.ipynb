{
 "cells": [
  {
   "cell_type": "code",
   "execution_count": null,
   "id": "a50246b6",
   "metadata": {},
   "outputs": [],
   "source": [
    "from sklearn.preprocessing import FunctionTransformer,OneHotEncoder,StandardScaler\n",
    "from sklearn.compose import ColumnTransformer,make_column_selector\n",
    "from sklearn.pipeline import Pipeline\n",
    "from sklearn.model_selection import train_test_split,GridSearchCV\n",
    "from sklearn.linear_model import LogisticRegression\n",
    "from sklearn.tree import DecisionTreeClassifier\n",
    "from sklearn.ensemble import RandomForestClassifier\n",
    "from sklearn.svm import SVC\n",
    "from sklearn.metrics import accuracy_score,classification_report,confusion_matrix"
   ]
  },
  {
   "cell_type": "code",
   "execution_count": null,
   "id": "f8c29cd6",
   "metadata": {},
   "outputs": [],
   "source": [
    "def get_cabin_group(X):\n",
    "    return X.iloc[:, 0].str.split(\"/\", expand=True)[0].to_frame()"
   ]
  },
  {
   "cell_type": "code",
   "execution_count": null,
   "id": "4624b66c",
   "metadata": {},
   "outputs": [],
   "source": [
    "X=data.drop(['transported','passengerid','name'],axis=1)\n",
    "y=data['transported']"
   ]
  },
  {
   "cell_type": "code",
   "execution_count": null,
   "id": "4bcd3d6d",
   "metadata": {},
   "outputs": [],
   "source": [
    "X_train,X_test,y_train,y_test=train_test_split(X,y,test_size=0.2,random_state=42)"
   ]
  },
  {
   "cell_type": "code",
   "execution_count": null,
   "id": "1d088c68",
   "metadata": {},
   "outputs": [],
   "source": [
    "cabin_pipeline = Pipeline([\n",
    "    ('extract_group', FunctionTransformer(get_cabin_group)),\n",
    "    ('ohe', OneHotEncoder(sparse_output=False, drop='first', handle_unknown='ignore'))\n",
    "])"
   ]
  },
  {
   "cell_type": "code",
   "execution_count": null,
   "id": "7d2480f6",
   "metadata": {},
   "outputs": [],
   "source": [
    "cat_cols=X_train.select_dtypes(include='object').columns\n",
    "cat_cols"
   ]
  },
  {
   "cell_type": "code",
   "execution_count": null,
   "id": "1cad84f5",
   "metadata": {},
   "outputs": [],
   "source": [
    "num_cols=X_train.select_dtypes(exclude='object').columns\n",
    "num_cols"
   ]
  },
  {
   "cell_type": "code",
   "execution_count": null,
   "id": "aacb9123",
   "metadata": {},
   "outputs": [],
   "source": [
    "processor=ColumnTransformer(transformers=[\n",
    "    ('ohe', OneHotEncoder(sparse_output=False, drop='first', handle_unknown='ignore'),['homeplanet', 'destination']),\n",
    "    ('scale',StandardScaler(), ['age', 'roomservice', 'foodcourt', 'shoppingmall','spa', 'vrdeck'])\n",
    "],remainder='passthrough')"
   ]
  },
  {
   "cell_type": "code",
   "execution_count": null,
   "id": "1b36d99b",
   "metadata": {},
   "outputs": [],
   "source": [
    "processor.fit_transform(X_train)[1]"
   ]
  },
  {
   "cell_type": "code",
   "execution_count": null,
   "id": "400eb386",
   "metadata": {},
   "outputs": [],
   "source": [
    "model_pipe=Pipeline([\n",
    "    ('processor',processor),\n",
    "    ('model',RandomForestClassifier())\n",
    "])"
   ]
  },
  {
   "cell_type": "code",
   "execution_count": null,
   "id": "66c4415a",
   "metadata": {},
   "outputs": [],
   "source": [
    "model_pipe.fit(X_train,y_train)"
   ]
  },
  {
   "cell_type": "code",
   "execution_count": null,
   "id": "c4b18579",
   "metadata": {},
   "outputs": [],
   "source": [
    "pred=model_pipe.predict(X_test)"
   ]
  },
  {
   "cell_type": "code",
   "execution_count": null,
   "id": "c96c3278",
   "metadata": {},
   "outputs": [],
   "source": [
    "accuracy_score(pred,y_test)"
   ]
  },
  {
   "cell_type": "code",
   "execution_count": null,
   "id": "62bd393c",
   "metadata": {},
   "outputs": [],
   "source": [
    "param_grid = [\n",
    "    {\n",
    "        'model': [LogisticRegression()],\n",
    "        'model__C': [0.01, 0.1, 1, 10],\n",
    "        'model__penalty': ['l2'],\n",
    "        'model__solver': ['lbfgs', 'liblinear'],\n",
    "        'model__max_iter': [100, 200]\n",
    "    },\n",
    "    {\n",
    "        'model': [DecisionTreeClassifier()],\n",
    "        'model__criterion': ['gini', 'entropy'],\n",
    "        'model__max_depth': [None, 10, 20],\n",
    "        'model__min_samples_split': [2, 5],\n",
    "        'model__min_samples_leaf': [1, 2]\n",
    "    },\n",
    "    {\n",
    "        'model': [RandomForestClassifier()],\n",
    "        'model__n_estimators': [100, 200],\n",
    "        'model__max_depth': [None, 10, 20],\n",
    "        'model__min_samples_split': [2, 5],\n",
    "        'model__min_samples_leaf': [1, 2],\n",
    "        'model__max_features': ['sqrt', 'log2']\n",
    "    },\n",
    "    {\n",
    "        'model': [SVC()],\n",
    "        'model__C': [0.1, 1, 10],\n",
    "        'model__kernel': ['rbf', 'linear', 'poly'],\n",
    "        'model__gamma': ['scale', 'auto'],\n",
    "        'model__degree': [2, 3]  # used only when kernel=poly\n",
    "    }\n",
    "]\n"
   ]
  },
  {
   "cell_type": "code",
   "execution_count": null,
   "id": "e2284781",
   "metadata": {},
   "outputs": [],
   "source": [
    "grid_search = GridSearchCV(model_pipe, param_grid, cv=5, scoring='accuracy')\n",
    "grid_search.fit(X_train, y_train)\n",
    "\n",
    "print(\"Best model:\", grid_search.best_estimator_)\n",
    "print(\"Best params:\", grid_search.best_params_)\n",
    "print(\"Best score:\", grid_search.best_score_)"
   ]
  }
 ],
 "metadata": {
  "kernelspec": {
   "display_name": "Python 3",
   "language": "python",
   "name": "python3"
  },
  "language_info": {
   "codemirror_mode": {
    "name": "ipython",
    "version": 3
   },
   "file_extension": ".py",
   "mimetype": "text/x-python",
   "name": "python",
   "nbconvert_exporter": "python",
   "pygments_lexer": "ipython3",
   "version": "3.12.9"
  }
 },
 "nbformat": 4,
 "nbformat_minor": 5
}
